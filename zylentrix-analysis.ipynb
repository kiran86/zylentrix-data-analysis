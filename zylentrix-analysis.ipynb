{
 "cells": [
  {
   "cell_type": "markdown",
   "id": "340f1e00",
   "metadata": {},
   "source": [
    "# Zylentrix Student Engagement Analysis\n",
    "\n",
    "## Background\n",
    "Zylentrix runs an online training platform where students enrol in different learning tracks (e.g., Digital Marketing, Python, UI/UX, etc.). The platform\n",
    "records student behaviour, such as logins, course completions, time spent on lessons, and feedback.\n",
    "\n",
    "## Data\n",
    "The system captures data one student enrollment in different courses, their activity in different courses and feedback they give regarding different courses. Based on these system produce `.csv` files as the following:\n",
    "\n",
    "1. `students.csv` – Contains student info (ID, Name, Age, Gender, Location, Enrolment Date)\n",
    "2. `course_activity.csv` – Tracks user activity (Student ID, Course ID, Date, Time Spent [mins], Completion %)\n",
    "3. `feedback.csv` – Records feedback (Student ID, Course ID, Rating [1-5], Feedback Text)\n",
    "\n",
    "## Prepare Data\n",
    "To begin with the analysis, first load the necessary libraries and then load the `.csv` files in data frames. For this analysis we will be using `pandas` library for data preparation, cleaning and transformation where needed."
   ]
  },
  {
   "cell_type": "code",
   "execution_count": 2,
   "id": "6fc60cad",
   "metadata": {},
   "outputs": [],
   "source": [
    "# load libraries\n",
    "import pandas as pd\n",
    "\n",
    "# load csv files in data frames\n",
    "students_df = pd.read_csv('data/students.csv')\n",
    "course_activity_df = pd.read_csv('data/course_activity.csv')\n",
    "feedback_df = pd.read_csv('data/feedback.csv')"
   ]
  },
  {
   "cell_type": "markdown",
   "id": "766c6133",
   "metadata": {},
   "source": [
    "Now as the data has been loaded, lets have a peek."
   ]
  },
  {
   "cell_type": "code",
   "execution_count": 3,
   "id": "37c1ea7a",
   "metadata": {},
   "outputs": [
    {
     "name": "stdout",
     "output_type": "stream",
     "text": [
      "  Student_ID       Name  Age  Gender   Location Enrolment_Date\n",
      "0       S001  Student_1   24  Female    Kolkata     24/11/2023\n",
      "1       S002  Student_2   32   Other    Chennai     27/02/2023\n",
      "2       S003  Student_3   28   Other     Mumbai     13/01/2023\n",
      "3       S004  Student_4   25  Female  Bangalore     21/05/2023\n",
      "4       S005  Student_5   24   Other      Delhi     06/05/2023\n",
      "  Student_ID Course_ID        Date  Time_Spent_Minutes  Completion_Percentage\n",
      "0       S001     PY202  05/01/2024                  90                  46.10\n",
      "1       S001     DM101  28/01/2024                 155                  88.87\n",
      "2       S001     UX303  28/01/2024                 177                  54.93\n",
      "3       S002     PY202  03/02/2024                  45                  32.20\n",
      "4       S002     UX303  15/03/2024                 119                  90.80\n",
      "  Student_ID Course_ID  Rating       Feedback_Text\n",
      "0       S057     UX303       2      Too fast-paced\n",
      "1       S063     PY202       2  Loved the examples\n",
      "2       S022     PY202       4     Could be better\n",
      "3       S011     PY202       5   Needs improvement\n",
      "4       S073     WD404       4     Could be better\n"
     ]
    }
   ],
   "source": [
    "\n",
    "# quick look at the data frames\n",
    "print(students_df.head())\n",
    "print(course_activity_df.head())\n",
    "print(feedback_df.head())"
   ]
  },
  {
   "cell_type": "markdown",
   "id": "22266e45",
   "metadata": {},
   "source": [
    "So, from the above it is seen that the `student_df` contains details of the student's enrolled in different courses in the platform, `course_activity_df` is these students involvement in different courses, and `feedback_df` contains student feedback towards different courses. "
   ]
  },
  {
   "cell_type": "markdown",
   "id": "4424576a",
   "metadata": {},
   "source": [
    "## Cleaning\n",
    "\n",
    "But, this is merely an overview of the entire data set. For analysis, more details of these data sets like how large is the data set and each variables and their types are needed. Also, to get proper isight of the data and drawout meaningful observations, the data needs to be consistent and error free as much as possible and for these puposes cleaning of the data is necessay.\n",
    "\n",
    "Let's start with the student data. First have a detailed structure view of the data frame."
   ]
  },
  {
   "cell_type": "code",
   "execution_count": 13,
   "id": "732c39de",
   "metadata": {},
   "outputs": [
    {
     "name": "stdout",
     "output_type": "stream",
     "text": [
      "<class 'pandas.core.frame.DataFrame'>\n",
      "RangeIndex: 100 entries, 0 to 99\n",
      "Data columns (total 6 columns):\n",
      " #   Column          Non-Null Count  Dtype \n",
      "---  ------          --------------  ----- \n",
      " 0   Student_ID      100 non-null    object\n",
      " 1   Name            100 non-null    object\n",
      " 2   Age             100 non-null    int64 \n",
      " 3   Gender          100 non-null    object\n",
      " 4   Location        100 non-null    object\n",
      " 5   Enrolment_Date  100 non-null    object\n",
      "dtypes: int64(1), object(5)\n",
      "memory usage: 4.8+ KB\n",
      "None\n"
     ]
    }
   ],
   "source": [
    "# check info of the data frame\n",
    "print(students_df.info())"
   ]
  },
  {
   "cell_type": "code",
   "execution_count": null,
   "id": "3c896e15",
   "metadata": {},
   "outputs": [],
   "source": [
    "\n",
    "print(\"#### Course activity data frame info: ##############################\")\n",
    "print(course_activity_df.info())\n",
    "print(\"####################################################################\")\n",
    "\n",
    "print(\"#### Feedback data frame infor: ####################################\")\n",
    "print(feedback_df.info())\n",
    "print(\"####################################################################\")"
   ]
  }
 ],
 "metadata": {
  "kernelspec": {
   "display_name": "venv",
   "language": "python",
   "name": "python3"
  },
  "language_info": {
   "codemirror_mode": {
    "name": "ipython",
    "version": 3
   },
   "file_extension": ".py",
   "mimetype": "text/x-python",
   "name": "python",
   "nbconvert_exporter": "python",
   "pygments_lexer": "ipython3",
   "version": "3.12.3"
  }
 },
 "nbformat": 4,
 "nbformat_minor": 5
}
