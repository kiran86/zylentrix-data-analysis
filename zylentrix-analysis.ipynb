{
 "cells": [
  {
   "cell_type": "markdown",
   "id": "340f1e00",
   "metadata": {},
   "source": [
    "# Zylentrix Student Engagement Analysis\n",
    "\n",
    "## Background\n",
    "Zylentrix runs an online training platform where students enrol in different learning tracks (e.g., Digital Marketing, Python, UI/UX, etc.). The platform\n",
    "records student behaviour, such as logins, course completions, time spent on lessons, and feedback.\n",
    "\n",
    "## Data\n",
    "The system captures data one student enrollment in different courses, their activity in different courses and feedback they give regarding different courses. Based on these system produce `.csv` files as the following:\n",
    "\n",
    "1. `students.csv` – Contains student info (ID, Name, Age, Gender, Location, Enrolment Date)\n",
    "2. `course_activity.csv` – Tracks user activity (Student ID, Course ID, Date, Time Spent [mins], Completion %)\n",
    "3. `feedback.csv` – Records feedback (Student ID, Course ID, Rating [1-5], Feedback Text)\n",
    "\n",
    "## Prepare Data\n",
    "To begin with the analysis, first load the necessary libraries and then load the `.csv` files in data frames. For this analysis we will be using `pandas` library for data preparation, cleaning and transformation where needed."
   ]
  },
  {
   "cell_type": "code",
   "execution_count": 1,
   "id": "6fc60cad",
   "metadata": {},
   "outputs": [],
   "source": [
    "# load libraries\n",
    "import pandas as pd\n",
    "\n",
    "# load csv files in data frames\n",
    "students_df = pd.read_csv('data/students.csv')\n",
    "course_activity_df = pd.read_csv('data/course_activity.csv')\n",
    "feedback_df = pd.read_csv('data/feedback.csv')"
   ]
  },
  {
   "cell_type": "markdown",
   "id": "766c6133",
   "metadata": {},
   "source": [
    "Now as the data has been loaded, lets have a peek."
   ]
  },
  {
   "cell_type": "code",
   "execution_count": null,
   "id": "37c1ea7a",
   "metadata": {},
   "outputs": [],
   "source": [
    "\n",
    "# quick look at the data frames\n",
    "print(students_df.head())\n",
    "print(course_activity_df.head())\n",
    "print(feedback_df.head())\n",
    "# check the structure of the data frames\n",
    "print(students_df.info())"
   ]
  }
 ],
 "metadata": {
  "kernelspec": {
   "display_name": "venv",
   "language": "python",
   "name": "python3"
  },
  "language_info": {
   "codemirror_mode": {
    "name": "ipython",
    "version": 3
   },
   "file_extension": ".py",
   "mimetype": "text/x-python",
   "name": "python",
   "nbconvert_exporter": "python",
   "pygments_lexer": "ipython3",
   "version": "3.13.2"
  }
 },
 "nbformat": 4,
 "nbformat_minor": 5
}
