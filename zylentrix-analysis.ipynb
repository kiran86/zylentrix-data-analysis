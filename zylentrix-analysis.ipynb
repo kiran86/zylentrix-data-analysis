{
 "cells": [
  {
   "cell_type": "markdown",
   "id": "340f1e00",
   "metadata": {},
   "source": [
    "# Zylentrix Student Engagement Analysis\n",
    "\n",
    "## Background\n",
    "Zylentrix runs an online training platform where students enrol in different learning tracks (e.g., Digital Marketing, Python, UI/UX, etc.). The platform\n",
    "records student behaviour, such as logins, course completions, time spent on lessons, and feedback.\n",
    "\n",
    "## Data\n",
    "The system captures data one student enrollment in different courses, their activity in different courses and feedback they give regarding different courses. Based on these system produce `.csv` files as the following:\n",
    "\n",
    "1. `students.csv` – Contains student info (ID, Name, Age, Gender, Location, Enrolment Date)\n",
    "2. `course_activity.csv` – Tracks user activity (Student ID, Course ID, Date, Time Spent [mins], Completion %)\n",
    "3. `feedback.csv` – Records feedback (Student ID, Course ID, Rating [1-5], Feedback Text)\n",
    "\n",
    "## Prepare Data\n",
    "To begin with the analysis, first load the necessary libraries and then load the `.csv` files in data frames. For this analysis we will be using `pandas` library for data preparation, cleaning and transformation where needed."
   ]
  },
  {
   "cell_type": "code",
   "execution_count": 36,
   "id": "6fc60cad",
   "metadata": {},
   "outputs": [],
   "source": [
    "# load libraries\n",
    "import pandas as pd\n",
    "\n",
    "# load csv files in data frames\n",
    "students_df = pd.read_csv('data/students.csv')\n",
    "course_activity_df = pd.read_csv('data/course_activity.csv')\n",
    "feedback_df = pd.read_csv('data/feedback.csv')"
   ]
  },
  {
   "cell_type": "markdown",
   "id": "766c6133",
   "metadata": {},
   "source": [
    "Now as the data has been loaded, lets have a peek."
   ]
  },
  {
   "cell_type": "code",
   "execution_count": 37,
   "id": "37c1ea7a",
   "metadata": {},
   "outputs": [
    {
     "name": "stdout",
     "output_type": "stream",
     "text": [
      "  Student_ID       Name  Age  Gender   Location Enrolment_Date\n",
      "0       S001  Student_1   24  Female    Kolkata     24/11/2023\n",
      "1       S002  Student_2   32   Other    Chennai     27/02/2023\n",
      "2       S003  Student_3   28   Other     Mumbai     13/01/2023\n",
      "3       S004  Student_4   25  Female  Bangalore     21/05/2023\n",
      "4       S005  Student_5   24   Other      Delhi     06/05/2023\n",
      "  Student_ID Course_ID        Date  Time_Spent_Minutes  Completion_Percentage\n",
      "0       S001     PY202  05/01/2024                  90                  46.10\n",
      "1       S001     DM101  28/01/2024                 155                  88.87\n",
      "2       S001     UX303  28/01/2024                 177                  54.93\n",
      "3       S002     PY202  03/02/2024                  45                  32.20\n",
      "4       S002     UX303  15/03/2024                 119                  90.80\n",
      "  Student_ID Course_ID  Rating       Feedback_Text\n",
      "0       S057     UX303       2      Too fast-paced\n",
      "1       S063     PY202       2  Loved the examples\n",
      "2       S022     PY202       4     Could be better\n",
      "3       S011     PY202       5   Needs improvement\n",
      "4       S073     WD404       4     Could be better\n"
     ]
    }
   ],
   "source": [
    "\n",
    "# quick look at the data frames\n",
    "print(students_df.head())\n",
    "print(course_activity_df.head())\n",
    "print(feedback_df.head())"
   ]
  },
  {
   "cell_type": "markdown",
   "id": "22266e45",
   "metadata": {},
   "source": [
    "So, from the above it is seen that the `student_df` contains details of the student's enrolled in different courses in the platform, `course_activity_df` is these students involvement in different courses, and `feedback_df` contains student feedback towards different courses. "
   ]
  },
  {
   "cell_type": "markdown",
   "id": "4424576a",
   "metadata": {},
   "source": [
    "## Cleaning\n",
    "\n",
    "But, this is merely an overview of the entire data set. For analysis, more details of these data sets like how large is the data set and each variables and their types are needed. Also, to get proper isight of the data and drawout meaningful observations, the data needs to be consistent and error free as much as possible and for these purposes cleaning of the data is necessay.\n",
    "\n",
    "Let's start with the student data. First have a view of the data frame's structure."
   ]
  },
  {
   "cell_type": "code",
   "execution_count": 38,
   "id": "732c39de",
   "metadata": {},
   "outputs": [
    {
     "name": "stdout",
     "output_type": "stream",
     "text": [
      "<class 'pandas.core.frame.DataFrame'>\n",
      "RangeIndex: 100 entries, 0 to 99\n",
      "Data columns (total 6 columns):\n",
      " #   Column          Non-Null Count  Dtype \n",
      "---  ------          --------------  ----- \n",
      " 0   Student_ID      100 non-null    object\n",
      " 1   Name            100 non-null    object\n",
      " 2   Age             100 non-null    int64 \n",
      " 3   Gender          100 non-null    object\n",
      " 4   Location        100 non-null    object\n",
      " 5   Enrolment_Date  100 non-null    object\n",
      "dtypes: int64(1), object(5)\n",
      "memory usage: 4.8+ KB\n",
      "None\n"
     ]
    }
   ],
   "source": [
    "# check info of the data frame\n",
    "print(students_df.info())"
   ]
  },
  {
   "cell_type": "markdown",
   "id": "ce6c90b1",
   "metadata": {},
   "source": [
    "So this data frame contains six (6) variables with hundred (100) observations. Also a matter of relief that all the observations for each of the variables are `null` free. Although, the `Enrollment_Date` field is stored as object. It is better if this is converted to `datetime` type. Also, `Student_ID` should not be duplicate. And, whitespaces needs to be removed from `Name` and `Location` data."
   ]
  },
  {
   "cell_type": "code",
   "execution_count": 39,
   "id": "e6f1c8f0",
   "metadata": {},
   "outputs": [
    {
     "name": "stdout",
     "output_type": "stream",
     "text": [
      "<class 'pandas.core.frame.DataFrame'>\n",
      "RangeIndex: 100 entries, 0 to 99\n",
      "Data columns (total 6 columns):\n",
      " #   Column          Non-Null Count  Dtype         \n",
      "---  ------          --------------  -----         \n",
      " 0   Student_ID      100 non-null    object        \n",
      " 1   Name            100 non-null    object        \n",
      " 2   Age             100 non-null    int64         \n",
      " 3   Gender          100 non-null    object        \n",
      " 4   Location        100 non-null    object        \n",
      " 5   Enrolment_Date  100 non-null    datetime64[ns]\n",
      "dtypes: datetime64[ns](1), int64(1), object(4)\n",
      "memory usage: 4.8+ KB\n",
      "None\n"
     ]
    }
   ],
   "source": [
    "# convert Enrollment_Date to datetime\n",
    "students_df['Enrolment_Date'] = pd.to_datetime(students_df['Enrolment_Date'], errors='coerce', format='%d/%m/%Y', dayfirst=True)\n",
    "# remove whitespaces from Name and Location\n",
    "students_df['Name'] = students_df['Name'].str.strip()\n",
    "students_df['Location'] = students_df['Location'].str.strip()\n",
    "# remove duplicates if any\n",
    "students_df.drop_duplicates(subset='Student_ID', keep='first', inplace=True)\n",
    "print(students_df.info())"
   ]
  },
  {
   "cell_type": "markdown",
   "id": "4c133bcd",
   "metadata": {},
   "source": [
    "And the Student data is ready to be coocked. Similarly, for the course activity data, let's have a look at the data structure."
   ]
  },
  {
   "cell_type": "code",
   "execution_count": 40,
   "id": "3c896e15",
   "metadata": {},
   "outputs": [
    {
     "name": "stdout",
     "output_type": "stream",
     "text": [
      "<class 'pandas.core.frame.DataFrame'>\n",
      "RangeIndex: 659 entries, 0 to 658\n",
      "Data columns (total 5 columns):\n",
      " #   Column                 Non-Null Count  Dtype  \n",
      "---  ------                 --------------  -----  \n",
      " 0   Student_ID             659 non-null    object \n",
      " 1   Course_ID              659 non-null    object \n",
      " 2   Date                   659 non-null    object \n",
      " 3   Time_Spent_Minutes     659 non-null    int64  \n",
      " 4   Completion_Percentage  659 non-null    float64\n",
      "dtypes: float64(1), int64(1), object(3)\n",
      "memory usage: 25.9+ KB\n",
      "None\n"
     ]
    }
   ],
   "source": [
    "# check info of the data frame\n",
    "print(course_activity_df.info())"
   ]
  },
  {
   "cell_type": "markdown",
   "id": "ba178fee",
   "metadata": {},
   "source": [
    "Here also `Date` field to be converted in `datatime` type, duplicates to be removed and additionally, invalid or unrealistic data like `Time_Spent_Minutes` less than zero (0) or `Competion_Percentage` less than zero (0)/ greater than hundred (100) to be removed."
   ]
  },
  {
   "cell_type": "code",
   "execution_count": 41,
   "id": "1836ce1f",
   "metadata": {},
   "outputs": [
    {
     "name": "stdout",
     "output_type": "stream",
     "text": [
      "<class 'pandas.core.frame.DataFrame'>\n",
      "RangeIndex: 659 entries, 0 to 658\n",
      "Data columns (total 5 columns):\n",
      " #   Column                 Non-Null Count  Dtype         \n",
      "---  ------                 --------------  -----         \n",
      " 0   Student_ID             659 non-null    object        \n",
      " 1   Course_ID              659 non-null    object        \n",
      " 2   Date                   659 non-null    datetime64[ns]\n",
      " 3   Time_Spent_Minutes     659 non-null    int64         \n",
      " 4   Completion_Percentage  659 non-null    float64       \n",
      "dtypes: datetime64[ns](1), float64(1), int64(1), object(2)\n",
      "memory usage: 25.9+ KB\n",
      "None\n"
     ]
    }
   ],
   "source": [
    "# convert Date to datetime\n",
    "course_activity_df['Date'] = pd.to_datetime(course_activity_df['Date'], errors='coerce', format='%d/%m/%Y', dayfirst=True)\n",
    "# remove duplicates if any\n",
    "course_activity_df.drop_duplicates(keep='first', inplace=True)\n",
    "# remove invalid data\n",
    "course_activity_df = course_activity_df[course_activity_df['Time_Spent_Minutes'] >= 0]\n",
    "course_activity_df = course_activity_df[(course_activity_df['Completion_Percentage'] >= 0) & \n",
    "                                        (course_activity_df['Completion_Percentage'] <= 100)]\n",
    "print(course_activity_df.info())"
   ]
  },
  {
   "cell_type": "markdown",
   "id": "ee39c96c",
   "metadata": {},
   "source": [
    "And lastly for the feedback data. Here is the structure of the data."
   ]
  },
  {
   "cell_type": "code",
   "execution_count": null,
   "id": "bc1934b7",
   "metadata": {},
   "outputs": [
    {
     "name": "stdout",
     "output_type": "stream",
     "text": [
      "<class 'pandas.core.frame.DataFrame'>\n",
      "RangeIndex: 80 entries, 0 to 79\n",
      "Data columns (total 4 columns):\n",
      " #   Column         Non-Null Count  Dtype \n",
      "---  ------         --------------  ----- \n",
      " 0   Student_ID     80 non-null     object\n",
      " 1   Course_ID      80 non-null     object\n",
      " 2   Rating         80 non-null     int64 \n",
      " 3   Feedback_Text  80 non-null     object\n",
      "dtypes: int64(1), object(3)\n",
      "memory usage: 2.6+ KB\n",
      "None\n"
     ]
    }
   ],
   "source": [
    "print(feedback_df.info())"
   ]
  },
  {
   "cell_type": "markdown",
   "id": "1865759d",
   "metadata": {},
   "source": [
    "Remove whitespaces from the feedback text and invalid rating like bellow 1 or more than 5 and this will be ready. As there is no date of feedback given, we will remove the duplicates based on `Student_ID` and `Course_ID` but this time we will keep the last occurence considering that to be the latest feedback by a student regarding a course."
   ]
  },
  {
   "cell_type": "code",
   "execution_count": 44,
   "id": "69429987",
   "metadata": {},
   "outputs": [
    {
     "name": "stdout",
     "output_type": "stream",
     "text": [
      "<class 'pandas.core.frame.DataFrame'>\n",
      "RangeIndex: 80 entries, 0 to 79\n",
      "Data columns (total 4 columns):\n",
      " #   Column         Non-Null Count  Dtype \n",
      "---  ------         --------------  ----- \n",
      " 0   Student_ID     80 non-null     object\n",
      " 1   Course_ID      80 non-null     object\n",
      " 2   Rating         80 non-null     int64 \n",
      " 3   Feedback_Text  80 non-null     object\n",
      "dtypes: int64(1), object(3)\n",
      "memory usage: 2.6+ KB\n",
      "None\n"
     ]
    }
   ],
   "source": [
    "# remove whitespace from Feedback_Text\n",
    "feedback_df['Feedback_Text'] = feedback_df['Feedback_Text'].str.strip()\n",
    "# remove invalid ratings\n",
    "feedback_df = feedback_df[feedback_df['Rating'].between(1, 5)]\n",
    "# remove duplicates if any\n",
    "feedback_df.drop_duplicates(subset=['Student_ID', 'Course_ID'], keep='last', inplace=True)\n",
    "print(feedback_df.info())"
   ]
  },
  {
   "cell_type": "markdown",
   "id": "ebe6ae6f",
   "metadata": {},
   "source": [
    "It is a good thing to see that removing duplicates or invalid data from the data frames does not shrink the size, i. e., the observations are intact and this qualifies as good data.\n",
    "\n",
    "Now the cleaning is done, analysis can be started."
   ]
  }
 ],
 "metadata": {
  "kernelspec": {
   "display_name": "venv",
   "language": "python",
   "name": "python3"
  },
  "language_info": {
   "codemirror_mode": {
    "name": "ipython",
    "version": 3
   },
   "file_extension": ".py",
   "mimetype": "text/x-python",
   "name": "python",
   "nbconvert_exporter": "python",
   "pygments_lexer": "ipython3",
   "version": "3.13.2"
  }
 },
 "nbformat": 4,
 "nbformat_minor": 5
}
